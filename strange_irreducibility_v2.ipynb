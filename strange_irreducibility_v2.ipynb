{
 "cells": [
  {
   "cell_type": "code",
   "execution_count": 1,
   "metadata": {},
   "outputs": [],
   "source": [
    "import numpy as np\n",
    "import torch\n",
    "from torch import nn\n",
    "from tropical import Tropical, TropicalMonomial, TropicalPolynomial\n",
    "from tropical import to_tensor, Tropical, TropicalMonomial, TropicalPolynomial, PolyNet, DiffPolyNet"
   ]
  },
  {
   "cell_type": "code",
   "execution_count": 2,
   "metadata": {},
   "outputs": [],
   "source": [
    "%load_ext autoreload\n",
    "%autoreload 2"
   ]
  },
  {
   "cell_type": "code",
   "execution_count": 3,
   "metadata": {},
   "outputs": [],
   "source": [
    "import matplotlib.pyplot as plt\n",
    "%matplotlib inline"
   ]
  },
  {
   "cell_type": "code",
   "execution_count": 4,
   "metadata": {},
   "outputs": [
    {
     "data": {
      "text/plain": [
       "(True, '', '', '')"
      ]
     },
     "execution_count": 4,
     "metadata": {},
     "output_type": "execute_result"
    }
   ],
   "source": [
    "import JuPyMake\n",
    "JuPyMake.InitializePolymake()\n",
    "JuPyMake.ExecuteCommand(\"application 'tropical';\")"
   ]
  },
  {
   "cell_type": "code",
   "execution_count": 5,
   "metadata": {},
   "outputs": [
    {
     "data": {
      "text/plain": [
       "(True, '', '', '')"
      ]
     },
     "execution_count": 5,
     "metadata": {},
     "output_type": "execute_result"
    }
   ],
   "source": [
    "# = (−1\f",
    "x2)⊕(xy)⊕(−1\f",
    "y2)⊕x⊕y⊕(−1) \n",
    "\n",
    "JuPyMake.ExecuteCommand('$a = toTropicalPolynomial(\"max(x0,x1,-1)\");')"
   ]
  },
  {
   "cell_type": "code",
   "execution_count": 6,
   "metadata": {},
   "outputs": [
    {
     "data": {
      "text/plain": [
       "(True, 'x_0 + x_1 + -1', '', '')"
      ]
     },
     "execution_count": 6,
     "metadata": {},
     "output_type": "execute_result"
    }
   ],
   "source": [
    "JuPyMake.ExecuteCommand('print $a;')"
   ]
  },
  {
   "cell_type": "code",
   "execution_count": 7,
   "metadata": {},
   "outputs": [
    {
     "data": {
      "text/plain": [
       "(True, '', '', '')"
      ]
     },
     "execution_count": 7,
     "metadata": {},
     "output_type": "execute_result"
    }
   ],
   "source": [
    "# =-0.5\f",
    "x2⊕(1\f",
    "xy)⊕(−2\f",
    "y2)⊕x⊕y⊕0\n",
    "\n",
    "JuPyMake.ExecuteCommand('$b = toTropicalPolynomial(\"max(x0+x1,x1,0)\");')"
   ]
  },
  {
   "cell_type": "code",
   "execution_count": 8,
   "metadata": {},
   "outputs": [
    {
     "data": {
      "text/plain": [
       "(True, 'x_0*x_1 + x_1 + 0', '', '')"
      ]
     },
     "execution_count": 8,
     "metadata": {},
     "output_type": "execute_result"
    }
   ],
   "source": [
    "JuPyMake.ExecuteCommand('print $b;')"
   ]
  },
  {
   "cell_type": "code",
   "execution_count": 9,
   "metadata": {},
   "outputs": [
    {
     "data": {
      "text/plain": [
       "(True, '', '', '')"
      ]
     },
     "execution_count": 9,
     "metadata": {},
     "output_type": "execute_result"
    }
   ],
   "source": [
    "JuPyMake.ExecuteCommand('$c = $a * $b;')"
   ]
  },
  {
   "cell_type": "code",
   "execution_count": 10,
   "metadata": {},
   "outputs": [
    {
     "data": {
      "text/plain": [
       "(True, 'x_0^2*x_1 + x_0*x_1^2 + x_0*x_1 + x_0 + x_1^2 + x_1 + -1', '', '')"
      ]
     },
     "execution_count": 10,
     "metadata": {},
     "output_type": "execute_result"
    }
   ],
   "source": [
    "JuPyMake.ExecuteCommand('print $c;')"
   ]
  },
  {
   "cell_type": "code",
   "execution_count": null,
   "metadata": {},
   "outputs": [],
   "source": []
  },
  {
   "cell_type": "markdown",
   "metadata": {},
   "source": [
    "# Строим subdivision of polynomial a"
   ]
  },
  {
   "cell_type": "code",
   "execution_count": 11,
   "metadata": {
    "scrolled": true
   },
   "outputs": [
    {
     "data": {
      "image/png": "[encoded data removed]",
      "text/plain": [
       "<Figure size 432x288 with 1 Axes>"
      ]
     },
     "metadata": {
      "needs_background": "light"
     },
     "output_type": "display_data"
    }
   ],
   "source": [
    "JuPyMake.ExecuteCommand(f'$V = new Hypersurface<Max>(POLYNOMIAL=>$a);')\n",
    "JuPyMake.ExecuteCommand('$ds = $V->dual_subdivision();')\n",
    "JuPyMake.ExecuteCommand('$pc = $ds->POLYHEDRAL_COMPLEX;')\n",
    "pts = JuPyMake.ExecuteCommand('print $pc->VERTICES;')[1]\n",
    "\n",
    "pts = np.array([[int(j) for j in i.split()[1:]] for i in pts.split('\\n')[:-1]])\n",
    "\n",
    "adj = JuPyMake.ExecuteCommand('print $pc->GRAPH->ADJACENCY;')[1]\n",
    "adj = np.array([[int(j) for j in i[1:-1].split()] for i in adj.split('\\n')[:-1]])\n",
    "\n",
    "new_simp = []\n",
    "for i, vv in enumerate(adj):\n",
    "    for j, v in enumerate(vv):\n",
    "        new_simp.append([i,v])            \n",
    "\n",
    "plt.plot(pts[:,0], pts[:,1], 'o', color='black')\n",
    "for simplex in new_simp:\n",
    "    plt.plot(pts[simplex, 0], pts[simplex, 1], 'k-') "
   ]
  },
  {
   "cell_type": "code",
   "execution_count": null,
   "metadata": {},
   "outputs": [],
   "source": []
  },
  {
   "cell_type": "code",
   "execution_count": 12,
   "metadata": {},
   "outputs": [
    {
     "data": {
      "text/plain": [
       "(True,\n",
       " 'true',\n",
       " 'polymake: used package atint\\n  [[wiki:external_software#a-tint]] is an extension for tropical intersection theory.\\n  (C) 2011 - 2015 Simon Hampe, simon.hampe@googlemail.com\\n  See also: https://github.com/simonhampe/atint \\n\\n',\n",
       " '')"
      ]
     },
     "execution_count": 12,
     "metadata": {},
     "output_type": "execute_result"
    }
   ],
   "source": [
    "JuPyMake.ExecuteCommand('print $V->IS_BALANCED;')"
   ]
  },
  {
   "cell_type": "code",
   "execution_count": 13,
   "metadata": {},
   "outputs": [
    {
     "data": {
      "text/plain": [
       "(True, 'true', '', '')"
      ]
     },
     "execution_count": 13,
     "metadata": {},
     "output_type": "execute_result"
    }
   ],
   "source": [
    "JuPyMake.ExecuteCommand('print $V->IS_IRREDUCIBLE;')"
   ]
  },
  {
   "cell_type": "code",
   "execution_count": 14,
   "metadata": {},
   "outputs": [
    {
     "data": {
      "text/plain": [
       "(True, '1 0 0\\n0 0 1\\n0 0 -1\\n', '', '')"
      ]
     },
     "execution_count": 14,
     "metadata": {},
     "output_type": "execute_result"
    }
   ],
   "source": [
    "JuPyMake.ExecuteCommand('print $V->RAYS;')"
   ]
  },
  {
   "cell_type": "code",
   "execution_count": 15,
   "metadata": {},
   "outputs": [
    {
     "data": {
      "text/plain": [
       "(True, '1', '', '')"
      ]
     },
     "execution_count": 15,
     "metadata": {},
     "output_type": "execute_result"
    }
   ],
   "source": [
    "JuPyMake.ExecuteCommand('print $V->WEIGHTS;')"
   ]
  },
  {
   "cell_type": "code",
   "execution_count": 16,
   "metadata": {
    "scrolled": true
   },
   "outputs": [
    {
     "data": {
      "text/plain": [
       "(True, '1\\n', '', '')"
      ]
     },
     "execution_count": 16,
     "metadata": {},
     "output_type": "execute_result"
    }
   ],
   "source": [
    "JuPyMake.ExecuteCommand('print $V->WEIGHT_CONE->RAYS;')"
   ]
  },
  {
   "cell_type": "code",
   "execution_count": null,
   "metadata": {},
   "outputs": [],
   "source": []
  },
  {
   "cell_type": "markdown",
   "metadata": {},
   "source": [
    "# Строим subdivision of polynomial b"
   ]
  },
  {
   "cell_type": "code",
   "execution_count": 17,
   "metadata": {},
   "outputs": [
    {
     "data": {
      "image/png": "[encoded data removed]",
      "text/plain": [
       "<Figure size 432x288 with 1 Axes>"
      ]
     },
     "metadata": {
      "needs_background": "light"
     },
     "output_type": "display_data"
    }
   ],
   "source": [
    "JuPyMake.ExecuteCommand(f'$V = new Hypersurface<Max>(POLYNOMIAL=>$b);')\n",
    "JuPyMake.ExecuteCommand('$ds = $V->dual_subdivision();')\n",
    "JuPyMake.ExecuteCommand('$pc = $ds->POLYHEDRAL_COMPLEX;')\n",
    "pts = JuPyMake.ExecuteCommand('print $pc->VERTICES;')[1]\n",
    "\n",
    "pts = np.array([[int(j) for j in i.split()[1:]] for i in pts.split('\\n')[:-1]])\n",
    "\n",
    "adj = JuPyMake.ExecuteCommand('print $pc->GRAPH->ADJACENCY;')[1]\n",
    "adj = np.array([[int(j) for j in i[1:-1].split()] for i in adj.split('\\n')[:-1]])\n",
    "\n",
    "new_simp = []\n",
    "for i, vv in enumerate(adj):\n",
    "    for j, v in enumerate(vv):\n",
    "        new_simp.append([i,v])            \n",
    "\n",
    "plt.plot(pts[:,0], pts[:,1], 'o', color='black')\n",
    "for simplex in new_simp:\n",
    "    plt.plot(pts[simplex, 0], pts[simplex, 1], 'k-') "
   ]
  },
  {
   "cell_type": "code",
   "execution_count": null,
   "metadata": {},
   "outputs": [],
   "source": []
  },
  {
   "cell_type": "code",
   "execution_count": 19,
   "metadata": {},
   "outputs": [
    {
     "data": {
      "text/plain": [
       "(True, 'true', '', '')"
      ]
     },
     "execution_count": 19,
     "metadata": {},
     "output_type": "execute_result"
    }
   ],
   "source": [
    "JuPyMake.ExecuteCommand('print $V->IS_BALANCED;')"
   ]
  },
  {
   "cell_type": "code",
   "execution_count": 20,
   "metadata": {},
   "outputs": [
    {
     "data": {
      "text/plain": [
       "(True, 'true', '', '')"
      ]
     },
     "execution_count": 20,
     "metadata": {},
     "output_type": "execute_result"
    }
   ],
   "source": [
    "JuPyMake.ExecuteCommand('print $V->IS_IRREDUCIBLE;')"
   ]
  },
  {
   "cell_type": "code",
   "execution_count": 21,
   "metadata": {},
   "outputs": [
    {
     "data": {
      "text/plain": [
       "(True, '1 0 0\\n0 0 1\\n0 0 -1\\n', '', '')"
      ]
     },
     "execution_count": 21,
     "metadata": {},
     "output_type": "execute_result"
    }
   ],
   "source": [
    "JuPyMake.ExecuteCommand('print $V->RAYS;')"
   ]
  },
  {
   "cell_type": "code",
   "execution_count": 22,
   "metadata": {},
   "outputs": [
    {
     "data": {
      "text/plain": [
       "(True, '1', '', '')"
      ]
     },
     "execution_count": 22,
     "metadata": {},
     "output_type": "execute_result"
    }
   ],
   "source": [
    "JuPyMake.ExecuteCommand('print $V->WEIGHTS;')"
   ]
  },
  {
   "cell_type": "code",
   "execution_count": 23,
   "metadata": {
    "scrolled": true
   },
   "outputs": [
    {
     "data": {
      "text/plain": [
       "(True, '1\\n', '', '')"
      ]
     },
     "execution_count": 23,
     "metadata": {},
     "output_type": "execute_result"
    }
   ],
   "source": [
    "JuPyMake.ExecuteCommand('print $V->WEIGHT_CONE->RAYS;')"
   ]
  },
  {
   "cell_type": "code",
   "execution_count": null,
   "metadata": {},
   "outputs": [],
   "source": []
  },
  {
   "cell_type": "code",
   "execution_count": null,
   "metadata": {},
   "outputs": [],
   "source": []
  },
  {
   "cell_type": "markdown",
   "metadata": {},
   "source": [
    "# Строим subdivision of polynomial c"
   ]
  },
  {
   "cell_type": "code",
   "execution_count": 26,
   "metadata": {},
   "outputs": [
    {
     "data": {
      "image/png": "[encoded data removed]",
      "text/plain": [
       "<Figure size 432x288 with 1 Axes>"
      ]
     },
     "metadata": {
      "needs_background": "light"
     },
     "output_type": "display_data"
    }
   ],
   "source": [
    "JuPyMake.ExecuteCommand(f'$V = new Hypersurface<Max>(POLYNOMIAL=>$c);')\n",
    "JuPyMake.ExecuteCommand('$ds = $V->dual_subdivision();')\n",
    "JuPyMake.ExecuteCommand('$pc = $ds->POLYHEDRAL_COMPLEX;')\n",
    "pts = JuPyMake.ExecuteCommand('print $pc->VERTICES;')[1]\n",
    "\n",
    "pts = np.array([[int(j) for j in i.split()[1:]] for i in pts.split('\\n')[:-1]])\n",
    "\n",
    "adj = JuPyMake.ExecuteCommand('print $pc->GRAPH->ADJACENCY;')[1]\n",
    "adj = np.array([[int(j) for j in i[1:-1].split()] for i in adj.split('\\n')[:-1]])\n",
    "\n",
    "new_simp = []\n",
    "for i, vv in enumerate(adj):\n",
    "    for j, v in enumerate(vv):\n",
    "        new_simp.append([i,v])            \n",
    "\n",
    "plt.plot(pts[:,0], pts[:,1], 'o', color='black')\n",
    "for simplex in new_simp:\n",
    "    plt.plot(pts[simplex, 0], pts[simplex, 1], 'k-') "
   ]
  },
  {
   "cell_type": "code",
   "execution_count": null,
   "metadata": {},
   "outputs": [],
   "source": []
  },
  {
   "cell_type": "code",
   "execution_count": 27,
   "metadata": {},
   "outputs": [
    {
     "data": {
      "text/plain": [
       "(True, 'true', '', '')"
      ]
     },
     "execution_count": 27,
     "metadata": {},
     "output_type": "execute_result"
    }
   ],
   "source": [
    "JuPyMake.ExecuteCommand('print $V->IS_BALANCED;')"
   ]
  },
  {
   "cell_type": "code",
   "execution_count": 28,
   "metadata": {},
   "outputs": [
    {
     "data": {
      "text/plain": [
       "(True, 'true', '', '')"
      ]
     },
     "execution_count": 28,
     "metadata": {},
     "output_type": "execute_result"
    }
   ],
   "source": [
    "JuPyMake.ExecuteCommand('print $V->IS_IRREDUCIBLE;')"
   ]
  },
  {
   "cell_type": "code",
   "execution_count": 29,
   "metadata": {},
   "outputs": [
    {
     "data": {
      "text/plain": [
       "(True, '0 0 -1\\n0 0 1\\n1 0 0\\n', '', '')"
      ]
     },
     "execution_count": 29,
     "metadata": {},
     "output_type": "execute_result"
    }
   ],
   "source": [
    "JuPyMake.ExecuteCommand('print $V->RAYS;')"
   ]
  },
  {
   "cell_type": "code",
   "execution_count": 30,
   "metadata": {},
   "outputs": [
    {
     "data": {
      "text/plain": [
       "(True, '1', '', '')"
      ]
     },
     "execution_count": 30,
     "metadata": {},
     "output_type": "execute_result"
    }
   ],
   "source": [
    "JuPyMake.ExecuteCommand('print $V->WEIGHTS;')"
   ]
  },
  {
   "cell_type": "code",
   "execution_count": 31,
   "metadata": {
    "scrolled": true
   },
   "outputs": [
    {
     "data": {
      "text/plain": [
       "(True, '1\\n', '', '')"
      ]
     },
     "execution_count": 31,
     "metadata": {},
     "output_type": "execute_result"
    }
   ],
   "source": [
    "JuPyMake.ExecuteCommand('print $V->WEIGHT_CONE->RAYS;')"
   ]
  },
  {
   "cell_type": "code",
   "execution_count": null,
   "metadata": {},
   "outputs": [],
   "source": []
  },
  {
   "cell_type": "code",
   "execution_count": null,
   "metadata": {},
   "outputs": [],
   "source": []
  },
  {
   "cell_type": "code",
   "execution_count": 52,
   "metadata": {},
   "outputs": [],
   "source": [
    "#max(-1+2*x0,x0+x1,-1+2*x1,x0,x1,-1)\n",
    "a = TropicalPolynomial([[0,1,0],[0,0,1],[-1,0,0]])\n",
    "\n",
    "#max(-0.5+2*x0,1+x0+x1,-2+2*x1,x0,x1,0)\n",
    "b = TropicalPolynomial([[0,1,1],[0,0,1],[0,0,0]])"
   ]
  },
  {
   "cell_type": "code",
   "execution_count": 53,
   "metadata": {},
   "outputs": [
    {
     "data": {
      "text/plain": [
       "-1 ⨁ a ⨁ b"
      ]
     },
     "execution_count": 53,
     "metadata": {},
     "output_type": "execute_result"
    }
   ],
   "source": [
    "a"
   ]
  },
  {
   "cell_type": "code",
   "execution_count": 54,
   "metadata": {},
   "outputs": [
    {
     "data": {
      "text/plain": [
       "0 ⨁ b ⨁ a⨀b"
      ]
     },
     "execution_count": 54,
     "metadata": {},
     "output_type": "execute_result"
    }
   ],
   "source": [
    "b"
   ]
  },
  {
   "cell_type": "code",
   "execution_count": 55,
   "metadata": {},
   "outputs": [
    {
     "data": {
      "text/plain": [
       "-1 ⨁ b^2 ⨁ a⨀b^2 ⨁ a ⨁ b ⨁ a^2⨀b ⨁ a⨀b"
      ]
     },
     "execution_count": 55,
     "metadata": {},
     "output_type": "execute_result"
    }
   ],
   "source": [
    "c = a*b\n",
    "c"
   ]
  },
  {
   "cell_type": "code",
   "execution_count": 56,
   "metadata": {},
   "outputs": [
    {
     "data": {
      "text/plain": [
       "-1 ⨁ b^2 ⨁ a⨀b^2 ⨁ a ⨁ b ⨁ a^2⨀b"
      ]
     },
     "execution_count": 56,
     "metadata": {},
     "output_type": "execute_result"
    }
   ],
   "source": [
    "c.minimize()"
   ]
  },
  {
   "cell_type": "code",
   "execution_count": 57,
   "metadata": {},
   "outputs": [
    {
     "data": {
      "image/png": "[encoded data removed]",
      "text/plain": [
       "<Figure size 432x288 with 1 Axes>"
      ]
     },
     "metadata": {
      "needs_background": "light"
     },
     "output_type": "display_data"
    }
   ],
   "source": [
    "c.minimize().plot_dual_sub(color='blue')"
   ]
  },
  {
   "cell_type": "code",
   "execution_count": null,
   "metadata": {},
   "outputs": [],
   "source": []
  }
 ],
 "metadata": {
  "kernelspec": {
   "display_name": "Anton",
   "language": "python",
   "name": "anton"
  },
  "language_info": {
   "codemirror_mode": {
    "name": "ipython",
    "version": 3
   },
   "file_extension": ".py",
   "mimetype": "text/x-python",
   "name": "python",
   "nbconvert_exporter": "python",
   "pygments_lexer": "ipython3",
   "version": "3.6.9"
  }
 },
 "nbformat": 4,
 "nbformat_minor": 2
}
