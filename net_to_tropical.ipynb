{
 "cells": [
  {
   "cell_type": "code",
   "execution_count": 1,
   "metadata": {},
   "outputs": [],
   "source": [
    "import numpy as np\n",
    "import torch\n",
    "from torch import nn\n",
    "from tropical import Tropical, TropicalMonomial, TropicalPolynomial"
   ]
  },
  {
   "cell_type": "code",
   "execution_count": 2,
   "metadata": {},
   "outputs": [],
   "source": [
    "%load_ext autoreload\n",
    "%autoreload 2"
   ]
  },
  {
   "cell_type": "code",
   "execution_count": 3,
   "metadata": {},
   "outputs": [],
   "source": [
    "def to_tensor(x):\n",
    "    return torch.tensor(x).float()"
   ]
  },
  {
   "cell_type": "code",
   "execution_count": 4,
   "metadata": {},
   "outputs": [],
   "source": [
    "inp_size = [3,3]\n",
    "out_size = [3,2]\n",
    "\n",
    "t = Tropical(0)\n",
    "\n",
    "A = [np.random.randint(-10, 10, size=inp_size[i]*out_size[i]).reshape(out_size[i],inp_size[i]) for i in range(len(inp_size))]\n",
    "\n",
    "b = [np.random.randn(out_size[i]) for i in range(len(A))]"
   ]
  },
  {
   "cell_type": "code",
   "execution_count": 5,
   "metadata": {},
   "outputs": [],
   "source": [
    "class Net(torch.nn.Module):\n",
    "    def __init__(self, inp_size, out_size):\n",
    "        super(Net, self).__init__()\n",
    "        \n",
    "        self.linears = nn.ModuleList([\n",
    "                                nn.Sequential(\n",
    "                                    nn.Linear(inp_size[0], out_size[0]),\n",
    "                                    nn.ReLU()\n",
    "                                )])\n",
    "        \n",
    "        self.linears.extend([\n",
    "            nn.Sequential(\n",
    "                nn.Linear(inp_size[i], out_size[i]),\n",
    "                nn.ReLU()\n",
    "            ) for i in range(1, len(inp_size))])\n",
    "\n",
    "        for i in range(len(inp_size)):\n",
    "            self.linears[i][0].weight.data.copy_(to_tensor(A[i]))\n",
    "            self.linears[i][0].bias.data.copy_(to_tensor(b[i]))\n",
    "    def forward(self, output):\n",
    "        for l in self.linears:\n",
    "            output = l.forward(output)\n",
    "        return output"
   ]
  },
  {
   "cell_type": "code",
   "execution_count": 6,
   "metadata": {},
   "outputs": [],
   "source": [
    "model = Net(inp_size,out_size)"
   ]
  },
  {
   "cell_type": "code",
   "execution_count": 7,
   "metadata": {},
   "outputs": [
    {
     "data": {
      "text/plain": [
       "Net(\n",
       "  (linears): ModuleList(\n",
       "    (0): Sequential(\n",
       "      (0): Linear(in_features=3, out_features=3, bias=True)\n",
       "      (1): ReLU()\n",
       "    )\n",
       "    (1): Sequential(\n",
       "      (0): Linear(in_features=3, out_features=2, bias=True)\n",
       "      (1): ReLU()\n",
       "    )\n",
       "  )\n",
       ")"
      ]
     },
     "execution_count": 7,
     "metadata": {},
     "output_type": "execute_result"
    }
   ],
   "source": [
    "model"
   ]
  },
  {
   "cell_type": "code",
   "execution_count": 8,
   "metadata": {},
   "outputs": [
    {
     "name": "stdout",
     "output_type": "stream",
     "text": [
      "tensor([[ 0., -4.,  4.],\n",
      "        [ 6., -1., -7.],\n",
      "        [ 0., -9., -1.]])\n",
      "tensor([[-3.,  1., -1.],\n",
      "        [-7.,  9.,  2.]])\n"
     ]
    }
   ],
   "source": [
    "for l in model.linears:\n",
    "    print(l[0].weight.data)"
   ]
  },
  {
   "cell_type": "code",
   "execution_count": null,
   "metadata": {},
   "outputs": [],
   "source": []
  },
  {
   "cell_type": "code",
   "execution_count": 9,
   "metadata": {},
   "outputs": [],
   "source": [
    "def convert_net_to_tropical(net):\n",
    "    \n",
    "    d = model.linears[0][0].in_features\n",
    "    f = [TropicalPolynomial([[0]+np.eye(d)[i].tolist()]) for i in range(d)]\n",
    "    \n",
    "    g = [TropicalPolynomial([[0]+np.zeros(d).tolist()]) for i in range(d)]\n",
    "\n",
    "\n",
    "    for l in model.linears:\n",
    "        \n",
    "        n = l[0].in_features\n",
    "        m = l[0].out_features\n",
    "        a = l[0].weight.data.detach().cpu().numpy()\n",
    "        a_plus = np.maximum(a,0)\n",
    "        a_minus = np.maximum(-a,0)\n",
    "        b_ = l[0].bias.data.detach().cpu().numpy()\n",
    "        \n",
    "        new_g = []\n",
    "        new_h = []\n",
    "        new_f = []\n",
    "        \n",
    "        for i in range(m):\n",
    "            g_i = None\n",
    "            h_i = None\n",
    "            f_i = None\n",
    "            for j in range(n):\n",
    "                if g_i is None:\n",
    "                    g_i = f[j]**a_minus[i][j]\n",
    "                    g_i *= g[j]**a_plus[i][j]\n",
    "                else:\n",
    "                    g_i *= f[j]**a_minus[i][j]\n",
    "                    g_i *= g[j]**a_plus[i][j]\n",
    "                \n",
    "                if h_i is None:\n",
    "                    h_i = f[j]**a_plus[i][j]\n",
    "                    h_i *= g[j]**a_minus[i][j]\n",
    "                else:\n",
    "                    h_i *= f[j]**a_plus[i][j]\n",
    "                    h_i *= g[j]**a_minus[i][j]\n",
    "                \n",
    "            h_i *= Tropical(b_[i])\n",
    "            f_i = h_i+g_i*t\n",
    "            \n",
    "            new_g.append(g_i)\n",
    "            new_h.append(h_i)\n",
    "            new_f.append(f_i)\n",
    "        \n",
    "        f = new_f\n",
    "        g = new_g\n",
    "        h = new_h\n",
    "\n",
    "        \n",
    "    return f,g,h\n",
    "        "
   ]
  },
  {
   "cell_type": "code",
   "execution_count": 13,
   "metadata": {},
   "outputs": [],
   "source": [
    "x = np.random.random(inp_size[0]).tolist()\n",
    "x_t = to_tensor(x)"
   ]
  },
  {
   "cell_type": "code",
   "execution_count": 14,
   "metadata": {
    "scrolled": true
   },
   "outputs": [],
   "source": [
    "out = model.forward(x_t)"
   ]
  },
  {
   "cell_type": "code",
   "execution_count": 15,
   "metadata": {
    "scrolled": true
   },
   "outputs": [
    {
     "data": {
      "text/plain": [
       "tensor([ 3.0852, 19.5080], grad_fn=<ReluBackward0>)"
      ]
     },
     "execution_count": 15,
     "metadata": {},
     "output_type": "execute_result"
    }
   ],
   "source": [
    "out"
   ]
  },
  {
   "cell_type": "code",
   "execution_count": null,
   "metadata": {},
   "outputs": [],
   "source": []
  },
  {
   "cell_type": "code",
   "execution_count": null,
   "metadata": {},
   "outputs": [],
   "source": []
  },
  {
   "cell_type": "code",
   "execution_count": 10,
   "metadata": {
    "scrolled": true
   },
   "outputs": [],
   "source": [
    "f,g,h = convert_net_to_tropical(model)"
   ]
  },
  {
   "cell_type": "code",
   "execution_count": 11,
   "metadata": {},
   "outputs": [
    {
     "data": {
      "text/plain": [
       "[1.0264563653618097⨀a^6.0⨀b^21.0⨀c ⨁ 1.0569193363189697⨀b^22.0⨀c^8.0 ⨁ 3.3155518770217896⨀b⨀c^19.0 ⨁ 0.6108950972557068⨀b^13.0⨀c^7.0 ⨁ 2.7046567797660828⨀b^10.0⨀c^20.0,\n",
       " 2.2012282256036997⨀a^54.0⨀b^28.0 ⨁ 2.4753949642181396⨀b^37.0⨀c^63.0 ⨁ 0.9794380310922861⨀a^54.0⨀b^46.0⨀c^2.0 ⨁ 1.253604769706726⨀b^55.0⨀c^65.0 ⨁ 6.310865819454193⨀b^27.0⨀c^93.0]"
      ]
     },
     "execution_count": 11,
     "metadata": {},
     "output_type": "execute_result"
    }
   ],
   "source": [
    "f"
   ]
  },
  {
   "cell_type": "code",
   "execution_count": 12,
   "metadata": {},
   "outputs": [
    {
     "data": {
      "text/plain": [
       "[3.3155518770217896⨀b⨀c^19.0 ⨁ 0.6108950972557068⨀b^13.0⨀c^7.0 ⨁ 2.7046567797660828⨀b^10.0⨀c^20.0 ⨁ b^22.0⨀c^8.0,\n",
       " 6.310865819454193⨀b^27.0⨀c^93.0 ⨁ b^55.0⨀c^65.0]"
      ]
     },
     "execution_count": 12,
     "metadata": {},
     "output_type": "execute_result"
    }
   ],
   "source": [
    "g"
   ]
  },
  {
   "cell_type": "code",
   "execution_count": null,
   "metadata": {},
   "outputs": [],
   "source": []
  },
  {
   "cell_type": "code",
   "execution_count": 16,
   "metadata": {},
   "outputs": [
    {
     "data": {
      "text/plain": [
       "(3.085188564095496, 19.508027819695464)"
      ]
     },
     "execution_count": 16,
     "metadata": {},
     "output_type": "execute_result"
    }
   ],
   "source": [
    "f[0].evaluate(x)/ g[0].evaluate(x), f[1].evaluate(x)/ g[1].evaluate(x)"
   ]
  },
  {
   "cell_type": "code",
   "execution_count": null,
   "metadata": {},
   "outputs": [],
   "source": []
  },
  {
   "cell_type": "code",
   "execution_count": null,
   "metadata": {},
   "outputs": [],
   "source": []
  },
  {
   "cell_type": "code",
   "execution_count": null,
   "metadata": {},
   "outputs": [],
   "source": []
  },
  {
   "cell_type": "code",
   "execution_count": null,
   "metadata": {},
   "outputs": [],
   "source": []
  },
  {
   "cell_type": "code",
   "execution_count": null,
   "metadata": {},
   "outputs": [],
   "source": []
  }
 ],
 "metadata": {
  "kernelspec": {
   "display_name": "pytosha",
   "language": "python",
   "name": "pytosha"
  },
  "language_info": {
   "codemirror_mode": {
    "name": "ipython",
    "version": 3
   },
   "file_extension": ".py",
   "mimetype": "text/x-python",
   "name": "python",
   "nbconvert_exporter": "python",
   "pygments_lexer": "ipython3",
   "version": "3.6.7"
  }
 },
 "nbformat": 4,
 "nbformat_minor": 2
}
