{
 "cells": [
  {
   "cell_type": "code",
   "execution_count": 1,
   "metadata": {},
   "outputs": [],
   "source": [
    "import numpy as np\n",
    "import torch\n",
    "from torch import nn\n",
    "from tropical import Tropical, TropicalMonomial, TropicalPolynomial\n",
    "from tropical import to_tensor, Tropical, TropicalMonomial, TropicalPolynomial, PolyNet, DiffPolyNet"
   ]
  },
  {
   "cell_type": "code",
   "execution_count": 2,
   "metadata": {},
   "outputs": [],
   "source": [
    "%load_ext autoreload\n",
    "%autoreload 2"
   ]
  },
  {
   "cell_type": "code",
   "execution_count": 3,
   "metadata": {},
   "outputs": [],
   "source": [
    "%matplotlib notebook"
   ]
  },
  {
   "cell_type": "code",
   "execution_count": 4,
   "metadata": {},
   "outputs": [
    {
     "data": {
      "text/plain": [
       "True"
      ]
     },
     "execution_count": 4,
     "metadata": {},
     "output_type": "execute_result"
    }
   ],
   "source": [
    "import JuPyMake\n",
    "JuPyMake.InitializePolymake()\n"
   ]
  },
  {
   "cell_type": "code",
   "execution_count": 5,
   "metadata": {},
   "outputs": [
    {
     "data": {
      "text/plain": [
       "(True, '', '', '')"
      ]
     },
     "execution_count": 5,
     "metadata": {},
     "output_type": "execute_result"
    }
   ],
   "source": [
    "JuPyMake.ExecuteCommand(\"application 'tropical';\")"
   ]
  },
  {
   "cell_type": "code",
   "execution_count": 6,
   "metadata": {},
   "outputs": [
    {
     "data": {
      "text/plain": [
       "(True, '', '', '')"
      ]
     },
     "execution_count": 6,
     "metadata": {},
     "output_type": "execute_result"
    }
   ],
   "source": [
    "# = (−1\f",
    "x2)⊕(xy)⊕(−1\f",
    "y2)⊕x⊕y⊕(−1) \n",
    "\n",
    "JuPyMake.ExecuteCommand('$a = toTropicalPolynomial(\"max(-1+2*x0,x0+x1,-1+2*x1,x0,x1,-1)\");')"
   ]
  },
  {
   "cell_type": "code",
   "execution_count": 7,
   "metadata": {},
   "outputs": [
    {
     "data": {
      "text/plain": [
       "(True, '-1*x_0^2 + x_0*x_1 + x_0 + -1*x_1^2 + x_1 + -1', '', '')"
      ]
     },
     "execution_count": 7,
     "metadata": {},
     "output_type": "execute_result"
    }
   ],
   "source": [
    "JuPyMake.ExecuteCommand('print $a;')"
   ]
  },
  {
   "cell_type": "code",
   "execution_count": 8,
   "metadata": {},
   "outputs": [
    {
     "data": {
      "text/plain": [
       "(True, '', '', '')"
      ]
     },
     "execution_count": 8,
     "metadata": {},
     "output_type": "execute_result"
    }
   ],
   "source": [
    "# =-0.5\f",
    "x2⊕(1\f",
    "xy)⊕(−2\f",
    "y2)⊕x⊕y⊕0\n",
    "\n",
    "JuPyMake.ExecuteCommand('$b = toTropicalPolynomial(\"max(-0.5+2*x0,1+x0+x1,-2+2*x1,x0,x1,0)\");')"
   ]
  },
  {
   "cell_type": "code",
   "execution_count": 9,
   "metadata": {},
   "outputs": [
    {
     "data": {
      "text/plain": [
       "(True, '-1/2*x_0^2 + 1*x_0*x_1 + x_0 + -2*x_1^2 + x_1 + 0', '', '')"
      ]
     },
     "execution_count": 9,
     "metadata": {},
     "output_type": "execute_result"
    }
   ],
   "source": [
    "JuPyMake.ExecuteCommand('print $b;')"
   ]
  },
  {
   "cell_type": "code",
   "execution_count": 10,
   "metadata": {},
   "outputs": [
    {
     "data": {
      "text/plain": [
       "(True, '', '', '')"
      ]
     },
     "execution_count": 10,
     "metadata": {},
     "output_type": "execute_result"
    }
   ],
   "source": [
    "JuPyMake.ExecuteCommand('$c = $a * $b;')"
   ]
  },
  {
   "cell_type": "code",
   "execution_count": 11,
   "metadata": {},
   "outputs": [
    {
     "data": {
      "text/plain": [
       "(True,\n",
       " '-3/2*x_0^4 + x_0^3*x_1 + -1/2*x_0^3 + 1*x_0^2*x_1^2 + 1*x_0^2*x_1 + x_0^2 + x_0*x_1^3 + 1*x_0*x_1^2 + x_0*x_1 + x_0 + -3*x_1^4 + -1*x_1^3 + x_1^2 + x_1 + -1',\n",
       " '',\n",
       " '')"
      ]
     },
     "execution_count": 11,
     "metadata": {},
     "output_type": "execute_result"
    }
   ],
   "source": [
    "JuPyMake.ExecuteCommand('print $c;')"
   ]
  },
  {
   "cell_type": "code",
   "execution_count": null,
   "metadata": {},
   "outputs": [],
   "source": []
  },
  {
   "cell_type": "code",
   "execution_count": 12,
   "metadata": {},
   "outputs": [
    {
     "data": {
      "text/plain": [
       "(True, '', '', '')"
      ]
     },
     "execution_count": 12,
     "metadata": {},
     "output_type": "execute_result"
    }
   ],
   "source": [
    "JuPyMake.ExecuteCommand('$V = new Hypersurface<Max>(POLYNOMIAL=>$c);')"
   ]
  },
  {
   "cell_type": "code",
   "execution_count": 13,
   "metadata": {},
   "outputs": [
    {
     "data": {
      "text/plain": [
       "(True, '', '', '')"
      ]
     },
     "execution_count": 13,
     "metadata": {},
     "output_type": "execute_result"
    }
   ],
   "source": [
    "JuPyMake.ExecuteCommand('$ds = $V->dual_subdivision();')"
   ]
  },
  {
   "cell_type": "code",
   "execution_count": 55,
   "metadata": {},
   "outputs": [
    {
     "name": "stdout",
     "output_type": "stream",
     "text": [
      "3 3/2 0 -1 0 0 1 1/2 0 0 1 -1 0 -1 0\n"
     ]
    }
   ],
   "source": [
    "print(JuPyMake.ExecuteCommand('print $ds->WEIGHTS;')[1])"
   ]
  },
  {
   "cell_type": "code",
   "execution_count": 127,
   "metadata": {},
   "outputs": [
    {
     "data": {
      "image/png": "[encoded data removed]",
      "text/plain": [
       "<Figure size 432x288 with 1 Axes>"
      ]
     },
     "metadata": {
      "needs_background": "light"
     },
     "output_type": "display_data"
    }
   ],
   "source": [
    "import matplotlib.pyplot as plt\n",
    "%matplotlib inline\n",
    "pts = JuPyMake.ExecuteCommand('print $ds->POINTS;')[1]\n",
    "pts = np.array([[int(j) for j in i.split()[1:]] for i in pts.split('\\n')[:-1]])\n",
    "\n",
    "plt.plot(pts[:,0], pts[:,1], 'o')\n",
    "\n",
    "simp = JuPyMake.ExecuteCommand('print $ds->MAXIMAL_CELLS;')[1]\n",
    "simp = np.array([[int(j) for j in i[1:-1].split()] for i in simp.split('\\n')[:-1]])\n",
    "\n",
    "adj = JuPyMake.ExecuteCommand('for (my $i=0; $i<$ds->N_MAXIMAL_CELLS; ++$i)\\\n",
    "                            {print $ds->cell($i)->GRAPH->ADJACENCY, \"\\t\" }')[1]\n",
    "adj = np.array([[[int(j[1]),int(j[-2])] for j in i.split('\\n')[:-1]] for i in adj.split('\\t')[:-1]])\n",
    "\n",
    "\n",
    "new_simp = []\n",
    "\n",
    "for i, vv in enumerate(adj):\n",
    "    new_s = []\n",
    "    for j, v in enumerate(vv):\n",
    "        new_s.append([simp[i][j],simp[i][v[0]]])\n",
    "        new_s.append([simp[i][j],simp[i][v[1]]])\n",
    "    new_simp.append(new_s)\n",
    "\n",
    "for simplex in new_simp:\n",
    "    for v in simplex:\n",
    "        plt.plot(pts[v, 0], pts[v, 1], 'k-')"
   ]
  },
  {
   "cell_type": "code",
   "execution_count": null,
   "metadata": {},
   "outputs": [],
   "source": []
  },
  {
   "cell_type": "code",
   "execution_count": null,
   "metadata": {},
   "outputs": [],
   "source": []
  }
 ],
 "metadata": {
  "kernelspec": {
   "display_name": "Anton",
   "language": "python",
   "name": "anton"
  },
  "language_info": {
   "codemirror_mode": {
    "name": "ipython",
    "version": 3
   },
   "file_extension": ".py",
   "mimetype": "text/x-python",
   "name": "python",
   "nbconvert_exporter": "python",
   "pygments_lexer": "ipython3",
   "version": "3.6.9"
  }
 },
 "nbformat": 4,
 "nbformat_minor": 2
}
